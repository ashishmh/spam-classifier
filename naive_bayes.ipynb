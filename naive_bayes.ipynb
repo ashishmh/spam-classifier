{
 "cells": [
  {
   "cell_type": "code",
   "execution_count": 1,
   "metadata": {},
   "outputs": [],
   "source": [
    "import glob\n",
    "import numpy as np\n",
    "from sklearn.feature_extraction.text import CountVectorizer"
   ]
  },
  {
   "cell_type": "code",
   "execution_count": 2,
   "metadata": {},
   "outputs": [],
   "source": [
    "FOLDER = '../enron1/'\n",
    "HAM_FOLDER = 'ham/'\n",
    "SPAM_FOLDER = 'spam/'\n",
    "\n",
    "HAM = 0\n",
    "SPAM = 1\n",
    "\n",
    "HAM_LIST = glob.glob(FOLDER + HAM_FOLDER + '*.txt')\n",
    "SPAM_LIST = glob.glob(FOLDER + SPAM_FOLDER + '*.txt')"
   ]
  },
  {
   "cell_type": "code",
   "execution_count": 3,
   "metadata": {},
   "outputs": [],
   "source": [
    "class naive_bayes:\n",
    "\n",
    "    def __init__(self, ham_list, spam_list):\n",
    "        self.ham_list = ham_list\n",
    "        self.spam_list = spam_list\n",
    "#         self.email_list = ham_list + spam_list\n",
    "        self.N = np.size(ham_list + spam_list)\n",
    "        self.N_HAM = np.size(ham_list)\n",
    "        self.N_SPAM = np.size(spam_list)\n",
    "        self.labels = np.asarray([HAM]* self.N_HAM + [SPAM]* self.N_SPAM)\n",
    "        \n",
    "        self.N_TRAINING = np.asarray([int(np.floor(self.N_HAM * 0.8)), int(np.floor(self.N_SPAM * 0.8))])\n",
    "        \n",
    "        self.vocab = []\n",
    "        self.nvocab = 0\n",
    "        \n",
    "    def nwords(self, X):\n",
    "        '''return the number of distinct words in input matrix X\n",
    "            parameters:\n",
    "                X: 2d numpy array'''\n",
    "        return np.count_nonzero(X.sum(axis = 0))\n",
    "    \n",
    "    def start_training(self, P_TRAINING = None):\n",
    "        if P_TRAINING == None:\n",
    "            N_TRAINING = self.N_TRAINING\n",
    "        else:\n",
    "            self.N_TRAINING = np.asarray([int(np.floor(self.N_HAM * P_TRAINING)), \n",
    "                                          int(np.floor(self.N_SPAM * P_TRAINING))])\n",
    "            N_TRAINING = self.N_TRAINING\n",
    "\n",
    "        training = CountVectorizer(input = 'filename', decode_error = 'ignore')\n",
    "        training_X = training.fit_transform(self.ham_list[:N_TRAINING[HAM]] + self.spam_list[:N_TRAINING[SPAM]]).toarray()\n",
    "        self.vocab = training.get_feature_names()\n",
    "        self.nvocab = np.size(self.vocab)\n",
    "        \n",
    "        training_ham = training_X[:N_TRAINING[HAM]]\n",
    "        training_spam = training_X[-N_TRAINING[SPAM]:]\n",
    "        \n",
    "        prior = N_TRAINING / N_TRAINING.sum()\n",
    "        con_ham = (training_ham.sum(axis = 0) + 1) / (self.nwords(training_ham) + self.nvocab)\n",
    "        con_spam = (training_spam.sum(axis = 0) + 1) / (self.nwords(training_spam) + self.nvocab)\n",
    "        conditionals = np.asarray([con_ham, con_spam])\n",
    "        return prior, conditionals\n",
    "        \n",
    "    def classifier(self, prior, conditionals):\n",
    "        N_TESTING = self.N - self.N_TRAINING\n",
    "        testing = CountVectorizer(input = 'filename', vocabulary = self.vocab, decode_error = 'ignore')\n",
    "        testing_X = testing.fit_transform(self.ham_list[-N_TESTING[HAM]:] + self.spam_list[-N_TESTING[SPAM]:]).toarray()\n",
    "        testing_ham = testing_X[:N_TESTING[HAM]]\n",
    "        testing_spam = testing_X[-N_TESTING[SPAM]:]\n",
    "        results = []\n",
    "        for i in np.arange(testing_X.shape[0]):\n",
    "            prob_ham = np.dot(np.log(conditionals[HAM]), testing_X[i]) + np.log(prior[HAM])\n",
    "            prob_spam = np.dot(np.log(conditionals[SPAM]), testing_X[i]) + np.log(prior[SPAM])\n",
    "            if prob_ham > prob_spam:\n",
    "                results.append(HAM)\n",
    "            else:\n",
    "                results.append(SPAM)\n",
    "        return results\n",
    "                \n",
    "    def accuracy(self, results):\n",
    "        N_TESTING = self.N - self.N_TRAINING\n",
    "        test_label = np.asarray([HAM] * N_TESTING[HAM] + [SPAM] * N_TESTING[SPAM])\n",
    "        expect = 0\n",
    "        for i in np.arange(np.size(results)):\n",
    "            if results[i] == test_label[i]:\n",
    "                expect += 1\n",
    "            else:\n",
    "                pass\n",
    "        return expect / np.size(results)"
   ]
  },
  {
   "cell_type": "code",
   "execution_count": 4,
   "metadata": {},
   "outputs": [
    {
     "ename": "NameError",
     "evalue": "name 'numpy' is not defined",
     "output_type": "error",
     "traceback": [
      "\u001b[0;31m---------------------------------------------------------------------------\u001b[0m",
      "\u001b[0;31mNameError\u001b[0m                                 Traceback (most recent call last)",
      "\u001b[0;32m<ipython-input-4-4db3516b4e15>\u001b[0m in \u001b[0;36m<module>\u001b[0;34m()\u001b[0m\n\u001b[1;32m      1\u001b[0m \u001b[0mtest\u001b[0m \u001b[0;34m=\u001b[0m \u001b[0mnaive_bayes\u001b[0m\u001b[0;34m(\u001b[0m\u001b[0mHAM_LIST\u001b[0m\u001b[0;34m,\u001b[0m \u001b[0mSPAM_LIST\u001b[0m\u001b[0;34m)\u001b[0m\u001b[0;34m\u001b[0m\u001b[0m\n\u001b[1;32m      2\u001b[0m \u001b[0mprior\u001b[0m\u001b[0;34m,\u001b[0m \u001b[0mconditionals\u001b[0m \u001b[0;34m=\u001b[0m \u001b[0mtest\u001b[0m\u001b[0;34m.\u001b[0m\u001b[0mstart_training\u001b[0m\u001b[0;34m(\u001b[0m\u001b[0;36m0.9\u001b[0m\u001b[0;34m)\u001b[0m\u001b[0;34m\u001b[0m\u001b[0m\n\u001b[0;32m----> 3\u001b[0;31m \u001b[0mresults\u001b[0m \u001b[0;34m=\u001b[0m \u001b[0mtest\u001b[0m\u001b[0;34m.\u001b[0m\u001b[0mclassifier\u001b[0m\u001b[0;34m(\u001b[0m\u001b[0mprior\u001b[0m\u001b[0;34m,\u001b[0m \u001b[0mconditionals\u001b[0m\u001b[0;34m)\u001b[0m\u001b[0;34m\u001b[0m\u001b[0m\n\u001b[0m\u001b[1;32m      4\u001b[0m \u001b[0mtest\u001b[0m\u001b[0;34m.\u001b[0m\u001b[0maccuracy\u001b[0m\u001b[0;34m(\u001b[0m\u001b[0mresults\u001b[0m\u001b[0;34m)\u001b[0m\u001b[0;34m\u001b[0m\u001b[0m\n",
      "\u001b[0;32m<ipython-input-3-459a90600e60>\u001b[0m in \u001b[0;36mclassifier\u001b[0;34m(self, prior, conditionals)\u001b[0m\n\u001b[1;32m     51\u001b[0m         \u001b[0mresults\u001b[0m \u001b[0;34m=\u001b[0m \u001b[0;34m[\u001b[0m\u001b[0;34m]\u001b[0m\u001b[0;34m\u001b[0m\u001b[0m\n\u001b[1;32m     52\u001b[0m         \u001b[0;32mfor\u001b[0m \u001b[0mi\u001b[0m \u001b[0;32min\u001b[0m \u001b[0mnp\u001b[0m\u001b[0;34m.\u001b[0m\u001b[0marange\u001b[0m\u001b[0;34m(\u001b[0m\u001b[0mtesting_X\u001b[0m\u001b[0;34m.\u001b[0m\u001b[0mshape\u001b[0m\u001b[0;34m[\u001b[0m\u001b[0;36m0\u001b[0m\u001b[0;34m]\u001b[0m\u001b[0;34m)\u001b[0m\u001b[0;34m:\u001b[0m\u001b[0;34m\u001b[0m\u001b[0m\n\u001b[0;32m---> 53\u001b[0;31m             \u001b[0mprob_ham\u001b[0m \u001b[0;34m=\u001b[0m \u001b[0mnumpy\u001b[0m\u001b[0;34m.\u001b[0m\u001b[0mdot\u001b[0m\u001b[0;34m(\u001b[0m\u001b[0mnp\u001b[0m\u001b[0;34m.\u001b[0m\u001b[0mlog\u001b[0m\u001b[0;34m(\u001b[0m\u001b[0mconditionals\u001b[0m\u001b[0;34m[\u001b[0m\u001b[0mHAM\u001b[0m\u001b[0;34m]\u001b[0m\u001b[0;34m)\u001b[0m\u001b[0;34m,\u001b[0m \u001b[0mtesting_X\u001b[0m\u001b[0;34m[\u001b[0m\u001b[0mi\u001b[0m\u001b[0;34m]\u001b[0m\u001b[0;34m)\u001b[0m \u001b[0;34m+\u001b[0m \u001b[0mnp\u001b[0m\u001b[0;34m.\u001b[0m\u001b[0mlog\u001b[0m\u001b[0;34m(\u001b[0m\u001b[0mprior\u001b[0m\u001b[0;34m[\u001b[0m\u001b[0mHAM\u001b[0m\u001b[0;34m]\u001b[0m\u001b[0;34m)\u001b[0m\u001b[0;34m\u001b[0m\u001b[0m\n\u001b[0m\u001b[1;32m     54\u001b[0m             \u001b[0mprob_spam\u001b[0m \u001b[0;34m=\u001b[0m \u001b[0mnumpy\u001b[0m\u001b[0;34m.\u001b[0m\u001b[0mdot\u001b[0m\u001b[0;34m(\u001b[0m\u001b[0mnp\u001b[0m\u001b[0;34m.\u001b[0m\u001b[0mlog\u001b[0m\u001b[0;34m(\u001b[0m\u001b[0mconditionals\u001b[0m\u001b[0;34m[\u001b[0m\u001b[0mSPAM\u001b[0m\u001b[0;34m]\u001b[0m\u001b[0;34m)\u001b[0m\u001b[0;34m,\u001b[0m \u001b[0mtesting_X\u001b[0m\u001b[0;34m[\u001b[0m\u001b[0mi\u001b[0m\u001b[0;34m]\u001b[0m\u001b[0;34m)\u001b[0m \u001b[0;34m+\u001b[0m \u001b[0mnp\u001b[0m\u001b[0;34m.\u001b[0m\u001b[0mlog\u001b[0m\u001b[0;34m(\u001b[0m\u001b[0mprior\u001b[0m\u001b[0;34m[\u001b[0m\u001b[0mSPAM\u001b[0m\u001b[0;34m]\u001b[0m\u001b[0;34m)\u001b[0m\u001b[0;34m\u001b[0m\u001b[0m\n\u001b[1;32m     55\u001b[0m             \u001b[0;32mif\u001b[0m \u001b[0mprob_ham\u001b[0m \u001b[0;34m>\u001b[0m \u001b[0mprob_spam\u001b[0m\u001b[0;34m:\u001b[0m\u001b[0;34m\u001b[0m\u001b[0m\n",
      "\u001b[0;31mNameError\u001b[0m: name 'numpy' is not defined"
     ]
    }
   ],
   "source": [
    "test = naive_bayes(HAM_LIST, SPAM_LIST)\n",
    "prior, conditionals = test.start_training(0.9)\n",
    "results = test.classifier(prior, conditionals)\n",
    "test.accuracy(results)"
   ]
  },
  {
   "cell_type": "code",
   "execution_count": null,
   "metadata": {},
   "outputs": [],
   "source": []
  }
 ],
 "metadata": {
  "kernelspec": {
   "display_name": "Python 3",
   "language": "python",
   "name": "python3"
  },
  "language_info": {
   "codemirror_mode": {
    "name": "ipython",
    "version": 3
   },
   "file_extension": ".py",
   "mimetype": "text/x-python",
   "name": "python",
   "nbconvert_exporter": "python",
   "pygments_lexer": "ipython3",
   "version": "3.6.6"
  }
 },
 "nbformat": 4,
 "nbformat_minor": 2
}
